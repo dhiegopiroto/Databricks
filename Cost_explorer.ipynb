{
 "cells": [
  {
   "cell_type": "markdown",
   "metadata": {},
   "source": [
    "Código para extrair dados de billing do DBX. 2.00     "
   ]
  },
  {
   "cell_type": "code",
   "execution_count": null,
   "metadata": {
    "vscode": {
     "languageId": "sql"
    }
   },
   "outputs": [],
   "source": [
    "%sql\n",
    "\n",
    "SELECT USAGE_DATE, SUM(USAGE_QUANTITY) AS DBUs\n",
    "FROM system.billing.usage\n",
    "where year(usage_date) = year(CURRENT_DATE)\n",
    "group by usage_date\n",
    "order by usage_date asc"
   ]
  }
 ],
 "metadata": {
  "language_info": {
   "name": "python"
  }
 },
 "nbformat": 4,
 "nbformat_minor": 2
}
