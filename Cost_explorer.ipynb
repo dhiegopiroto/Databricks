{
 "cells": [
  {
   "cell_type": "markdown",
   "metadata": {},
   "source": [
    "Código para extrair dados de billing do DBX  "
   ]
  },
  {
   "cell_type": "code",
   "execution_count": null,
   "metadata": {
    "vscode": {
     "languageId": "sql"
    }
   },
   "outputs": [],
   "source": [
    "%sql\n",
    "Describe table system.billing.usage"
   ]
  },
  {
   "cell_type": "code",
   "execution_count": null,
   "metadata": {
    "vscode": {
     "languageId": "sql"
    }
   },
   "outputs": [],
   "source": [
    "/*Tabela Usage (Global): Contém detalhes de todos os workspaces na conta*/\n",
    "%sql\n",
    "\n",
    "SELECT USAGE_DATE, sku_name, SUM(USAGE_QUANTITY) AS DBUs\n",
    "FROM system.billing.usage\n",
    "where year(usage_date) = year(CURRENT_DATE)\n",
    "group by usage_date,sku_name\n",
    "order by usage_date asc"
   ]
  },
  {
   "cell_type": "code",
   "execution_count": null,
   "metadata": {
    "vscode": {
     "languageId": "sql"
    }
   },
   "outputs": [],
   "source": [
    "%sql\n",
    "/*Todos os SKUs Disponíveis e o preço de list de cada um deles.*/\n",
    "\n",
    "select\n",
    "  sku_name,\n",
    "  pricing.default,\n",
    "  price_start_time,\n",
    "  usage_unit\n",
    "from\n",
    "  system.billing.list_prices\n",
    "where\n",
    "  price_end_time is null -- current price for a sku\n",
    "order by\n",
    "  sku_name;"
   ]
  }
 ],
 "metadata": {
  "language_info": {
   "name": "python"
  }
 },
 "nbformat": 4,
 "nbformat_minor": 2
}
